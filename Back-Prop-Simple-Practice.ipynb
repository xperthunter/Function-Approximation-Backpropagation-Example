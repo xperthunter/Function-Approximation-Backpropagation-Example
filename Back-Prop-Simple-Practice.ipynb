{
 "cells": [
  {
   "cell_type": "code",
   "execution_count": 172,
   "metadata": {},
   "outputs": [
    {
     "name": "stdout",
     "output_type": "stream",
     "text": [
      "3\n",
      "1\n"
     ]
    }
   ],
   "source": [
    "# Three network, with just one neuron each\n",
    "import numpy as np\n",
    "input_vector = np.random.rand(3,1)\n",
    "desired = 4\n",
    "\n",
    "#weights = [1.2, -0.8, 3.1]\n",
    "# 3 layers, (input) 3, 4, 1\n",
    "# weight matrix dimensions (next layers neurons, previous layer neurons)\n",
    "weight1 = np.random.rand(3,3) - 0.5*np.ones((3,3))\n",
    "weight2 = np.random.rand(4,3) - 0.5*np.ones((4,3))\n",
    "weight3 = np.random.rand(1,4) - 0.5*np.ones((1,4))\n",
    "weights = dict()\n",
    "weights[1] = weight1\n",
    "weights[2] = weight2\n",
    "weights[3] = weight3\n",
    "\n",
    "biases1 = np.random.rand(3,1)\n",
    "biases2 = np.random.rand(4,1)\n",
    "biases3 = np.random.rand(1,1)\n",
    "biases = dict()\n",
    "biases[1] = biases1\n",
    "biases[2] = biases2\n",
    "biases[3] = biases3\n",
    "layers = 3\n",
    "print(np.shape(weight1)[0])\n",
    "print(np.shape(input_vector)[1])\n",
    "#first = np.matmul(weights[1], input_vector) + biases[1]\n",
    "#print(first)"
   ]
  },
  {
   "cell_type": "code",
   "execution_count": 180,
   "metadata": {
    "collapsed": true
   },
   "outputs": [],
   "source": [
    "def ReLu(weighted_sum):\n",
    "    value = 0\n",
    "    value = max(0.0, weighted_sum)\n",
    "    return value\n",
    "vectorized_ReLu = np.vectorize(ReLu)\n",
    "\n",
    "def weighted_zeta_vectorized(weight, bias, previous_activation):\n",
    "    zeta = np.zeros((np.shape(weight)[0],np.shape(previous_activation)[1]))\n",
    "    zeta = np.matmul(weight, previous_activation) + bias\n",
    "    return zeta\n",
    "\n",
    "def Cost(output, y):\n",
    "    cost = 0\n",
    "    cost = 0.5*(output - x)^2\n",
    "    return cost"
   ]
  },
  {
   "cell_type": "code",
   "execution_count": 183,
   "metadata": {},
   "outputs": [
    {
     "name": "stdout",
     "output_type": "stream",
     "text": [
      "{1: array([[0.17533371],\n",
      "       [0.72236453],\n",
      "       [1.07247165]]), 2: array([[0.5358922 ],\n",
      "       [0.81126625],\n",
      "       [0.0909927 ],\n",
      "       [0.61945976]]), 3: array([[0.35425898]])}\n"
     ]
    }
   ],
   "source": [
    "def forward(layers, weights, biases, initial):\n",
    "    activations = dict()\n",
    "    activation = []\n",
    "    for l in range(1,layers+1):\n",
    "        activation = weighted_zeta_vectorized(weights[l],biases[l],initial)\n",
    "        initial = vectorized_ReLu(activation)\n",
    "        activations[l] = initial\n",
    "    return activations\n",
    "\n",
    "acts = forward(layers, weights, biases, input_vector)\n",
    "print(acts)"
   ]
  },
  {
   "cell_type": "code",
   "execution_count": 184,
   "metadata": {},
   "outputs": [
    {
     "name": "stdout",
     "output_type": "stream",
     "text": [
      "[[-3.64574102]]\n"
     ]
    }
   ],
   "source": [
    "def ErrorL(output, y):\n",
    "    outputdel = []\n",
    "    outputdel = output - y\n",
    "    return outputdel\n",
    "\n",
    "errorout = ErrorL(acts[3], desired)\n",
    "print(errorout)"
   ]
  },
  {
   "cell_type": "code",
   "execution_count": 185,
   "metadata": {},
   "outputs": [
    {
     "name": "stdout",
     "output_type": "stream",
     "text": [
      "{3: array([[-3.64574102]]), 2: array([[ 0.06129082],\n",
      "       [ 0.20268828],\n",
      "       [-0.21160825],\n",
      "       [ 1.5553473 ]]), 1: array([[-0.40189752],\n",
      "       [-0.27453965],\n",
      "       [ 0.69343988]])}\n",
      "{1: array([[0.10308237],\n",
      "       [0.82802355],\n",
      "       [0.91841121]]), 2: array([[0.52240933],\n",
      "       [0.7943269 ],\n",
      "       [0.36112927],\n",
      "       [0.35361057]]), 3: array([[0.66736396]])}\n",
      "<class 'dict'>\n"
     ]
    }
   ],
   "source": [
    "def ErrorAnyLayer(weights, totallayers, errorL):\n",
    "    errorany=dict()\n",
    "    for l in range(totallayers,0,-1):\n",
    "        if l == totallayers:\n",
    "            errorany[l] = errorL\n",
    "        else:\n",
    "            errorany[l] = np.matmul(np.transpose(weights[l+1]),errorany[l+1])       \n",
    "    return errorany\n",
    "\n",
    "errorall1 = ErrorAnyLayer(weights, 3, errorout)\n",
    "print(errorall1)\n",
    "print(biases)\n",
    "print(type(errorall1))"
   ]
  },
  {
   "cell_type": "code",
   "execution_count": 186,
   "metadata": {},
   "outputs": [
    {
     "name": "stdout",
     "output_type": "stream",
     "text": [
      "{3: array([[4.31310499]]), 2: array([[ 0.46111851],\n",
      "       [ 0.59163861],\n",
      "       [ 0.57273751],\n",
      "       [-1.20173673]]), 1: array([[0.50497988],\n",
      "       [1.1025632 ],\n",
      "       [0.22497133]])}\n"
     ]
    }
   ],
   "source": [
    "def NewBias(biases, errorall):\n",
    "    newbiases = dict()\n",
    "    for l in errorall.keys():\n",
    "        newbiases[l]=biases[l]-errorall[l]\n",
    "    return newbiases\n",
    "\n",
    "newbiases = NewBias(biases,errorall1)\n",
    "print(newbiases)"
   ]
  },
  {
   "cell_type": "code",
   "execution_count": 189,
   "metadata": {},
   "outputs": [
    {
     "name": "stdout",
     "output_type": "stream",
     "text": [
      "{1: array([[0.17533371],\n",
      "       [0.72236453],\n",
      "       [1.07247165]]), 2: array([[0.5358922 ],\n",
      "       [0.81126625],\n",
      "       [0.0909927 ],\n",
      "       [0.61945976]]), 3: array([[0.35425898]])}\n",
      "{1: array([[-0.09307494, -0.31915815,  0.44756757],\n",
      "       [-0.42249715,  0.32440716, -0.15720596],\n",
      "       [ 0.27057517, -0.3728214 ,  0.49324173]]), 2: array([[-0.15941171,  0.02577512,  0.02127243],\n",
      "       [ 0.33297307, -0.46087935,  0.2717842 ],\n",
      "       [-0.02043523,  0.33810219, -0.47627051],\n",
      "       [-0.29828775, -0.07146916,  0.34478848]]), 3: array([[-0.01681162, -0.05559591,  0.05804259, -0.42662035]])}\n",
      "{3: array([[1.93691254, 2.90207075, 0.38977841, 1.83176951]]), 2: array([[-0.17015805, -0.01849919, -0.04446024],\n",
      "       [ 0.29743499, -0.60729417,  0.05440676],\n",
      "       [ 0.01666682,  0.49096049, -0.24932666],\n",
      "       [-0.57099257, -1.19499689, -1.3232774 ]]), 1: array([[-0.01162317, -0.2964963 ,  0.54554488],\n",
      "       [-0.36685673,  0.33988766, -0.09027682],\n",
      "       [ 0.13003707, -0.41192248,  0.32419023]])}\n"
     ]
    }
   ],
   "source": [
    "def NewWeights(weights, errorall, activities, input0):\n",
    "    newweights = dict()\n",
    "    for l in errorall.keys():\n",
    "        if l == 1:\n",
    "            newweights[l] = weights[l] - np.matmul(errorall[l],np.transpose(input0))\n",
    "        else:\n",
    "            newweights[l] = weights[l] - np.matmul(errorall[l],np.transpose(activities[l-1]))\n",
    "    return newweights\n",
    "print(acts)\n",
    "newweights = NewWeights(weights, errorall1, acts, input_vector)\n",
    "print(weights)\n",
    "print(newweights)"
   ]
  },
  {
   "cell_type": "code",
   "execution_count": 190,
   "metadata": {
    "collapsed": true
   },
   "outputs": [],
   "source": [
    "newacts = forward(layers, newweights, newbiases, input_vector)"
   ]
  },
  {
   "cell_type": "code",
   "execution_count": 191,
   "metadata": {},
   "outputs": [
    {
     "name": "stdout",
     "output_type": "stream",
     "text": [
      "{1: array([[0.61890231],\n",
      "       [1.02537006],\n",
      "       [0.30713187]]), 2: array([[0.32318362],\n",
      "       [0.1697306 ],\n",
      "       [1.00989267],\n",
      "       [0.        ]]), 3: array([[5.82528797]])}\n"
     ]
    }
   ],
   "source": [
    "print(newacts)"
   ]
  },
  {
   "cell_type": "code",
   "execution_count": 193,
   "metadata": {},
   "outputs": [
    {
     "name": "stdout",
     "output_type": "stream",
     "text": [
      "[[1.82528797]]\n",
      "{3: array([[1.82528797]]), 2: array([[3.53542315],\n",
      "       [5.29711482],\n",
      "       [0.71145784],\n",
      "       [3.34350684]]), 1: array([[-0.92329326],\n",
      "       [-6.92849202],\n",
      "       [-4.47075936]])}\n",
      "{3: array([[2.48781702]]), 2: array([[-3.07430464],\n",
      "       [-4.70547621],\n",
      "       [-0.13872033],\n",
      "       [-4.54524356]]), 1: array([[1.42827314],\n",
      "       [8.03105522],\n",
      "       [4.69573069]])}\n",
      "{1: array([[-0.09307494, -0.31915815,  0.44756757],\n",
      "       [-0.42249715,  0.32440716, -0.15720596],\n",
      "       [ 0.27057517, -0.3728214 ,  0.49324173]]), 2: array([[-0.15941171,  0.02577512,  0.02127243],\n",
      "       [ 0.33297307, -0.46087935,  0.2717842 ],\n",
      "       [-0.02043523,  0.33810219, -0.47627051],\n",
      "       [-0.29828775, -0.07146916,  0.34478848]]), 3: array([[-0.01681162, -0.05559591,  0.05804259, -0.42662035]])}\n",
      "{3: array([[ 1.34700936,  2.59226354, -1.45356653,  1.83176951]]), 2: array([[-2.35823961, -3.64361623, -1.13030136],\n",
      "       [-2.98096162, -6.03879711, -1.57250601],\n",
      "       [-0.42365608, -0.23854708, -0.46783804],\n",
      "       [-2.64029667, -4.62332869, -2.3501749 ]]), 1: array([[ 0.17549886, -0.24443446,  0.77063159],\n",
      "       [ 1.03732711,  0.73056535,  1.59879814],\n",
      "       [ 1.03611707, -0.15982925,  1.41410239]])}\n"
     ]
    }
   ],
   "source": [
    "errorout = ErrorL(newacts[3], desired)\n",
    "print(errorout)\n",
    "errorall1 = ErrorAnyLayer(newweights, 3, errorout)\n",
    "print(errorall1)\n",
    "newbiases = NewBias(newbiases,errorall1)\n",
    "print(newbiases)\n",
    "newweights = NewWeights(newweights, errorall1, newacts, input_vector)\n",
    "print(weights)\n",
    "print(newweights)"
   ]
  },
  {
   "cell_type": "code",
   "execution_count": 194,
   "metadata": {},
   "outputs": [
    {
     "name": "stdout",
     "output_type": "stream",
     "text": [
      "{1: array([[1.63792801],\n",
      "       [8.67224864],\n",
      "       [5.2414457 ]]), 2: array([[0.],\n",
      "       [0.],\n",
      "       [0.],\n",
      "       [0.]]), 3: array([[2.48781702]])}\n"
     ]
    }
   ],
   "source": [
    "newacts = forward(layers, newweights, newbiases, input_vector)\n",
    "print(newacts)"
   ]
  },
  {
   "cell_type": "code",
   "execution_count": 196,
   "metadata": {},
   "outputs": [
    {
     "data": {
      "text/plain": [
       "[(3, 3), (2, 2), (1, 1)]"
      ]
     },
     "execution_count": 196,
     "metadata": {},
     "output_type": "execute_result"
    }
   ],
   "source": [
    "list(zip(newbiases,newweights))"
   ]
  },
  {
   "cell_type": "code",
   "execution_count": 197,
   "metadata": {},
   "outputs": [
    {
     "name": "stdout",
     "output_type": "stream",
     "text": [
      "3\n",
      "3\n",
      "2\n",
      "2\n",
      "1\n",
      "1\n"
     ]
    }
   ],
   "source": [
    "for b, w in zip(newbiases, newweights):\n",
    "    print(b)\n",
    "    print(w)"
   ]
  },
  {
   "cell_type": "code",
   "execution_count": 199,
   "metadata": {},
   "outputs": [
    {
     "name": "stdout",
     "output_type": "stream",
     "text": [
      "[array([[ 0.15557135],\n",
      "       [-0.01856554]]), array([[-1.00002752],\n",
      "       [ 1.17994158],\n",
      "       [-2.32819487],\n",
      "       [ 1.49943969]]), array([[-1.42696299]])]\n",
      "[array([[ 0.36478246,  0.08820757,  1.5500595 ],\n",
      "       [ 0.85713802,  0.35217414, -0.61101788]]), array([[-0.64585623,  0.15245052],\n",
      "       [-0.36004047,  1.518661  ],\n",
      "       [ 1.3765053 , -1.55560465],\n",
      "       [ 0.00280998,  0.22013232]]), array([[ 0.89977389, -0.19141129, -0.17751105, -1.22659124]])]\n"
     ]
    }
   ],
   "source": [
    "sizes = [3,2,4,1]\n",
    "num_layers = len(sizes)\n",
    "pbiases = [np.random.randn(y, 1) for y in sizes[1:]]\n",
    "print(pbiases)\n",
    "pweights = [np.random.randn(y, x) for x, y in zip(sizes[:-1], sizes[1:])]\n",
    "print(pweights)"
   ]
  },
  {
   "cell_type": "code",
   "execution_count": 205,
   "metadata": {},
   "outputs": [
    {
     "name": "stdout",
     "output_type": "stream",
     "text": [
      "[3, 2, 4]\n"
     ]
    }
   ],
   "source": [
    "print(sizes[0:-1])"
   ]
  },
  {
   "cell_type": "code",
   "execution_count": 202,
   "metadata": {},
   "outputs": [
    {
     "name": "stdout",
     "output_type": "stream",
     "text": [
      "[2, 4, 1]\n"
     ]
    }
   ],
   "source": [
    "print(sizes[1:])"
   ]
  },
  {
   "cell_type": "code",
   "execution_count": 206,
   "metadata": {},
   "outputs": [
    {
     "name": "stdout",
     "output_type": "stream",
     "text": [
      "[[1, 2, 3], [4, 5, 6]]\n"
     ]
    }
   ],
   "source": [
    "a = [[1,2,3],[4,5,6]]\n",
    "print(a)"
   ]
  },
  {
   "cell_type": "code",
   "execution_count": 208,
   "metadata": {},
   "outputs": [
    {
     "name": "stdout",
     "output_type": "stream",
     "text": [
      "<class 'list'>\n"
     ]
    }
   ],
   "source": [
    "print(type(a))"
   ]
  },
  {
   "cell_type": "code",
   "execution_count": 209,
   "metadata": {},
   "outputs": [
    {
     "data": {
      "text/plain": [
       "[([1, 2, 3], [2, 10, 11]), ([4, 5, 6], [4, 5, 6, 7])]"
      ]
     },
     "execution_count": 209,
     "metadata": {},
     "output_type": "execute_result"
    }
   ],
   "source": [
    "b = [[2,10,11],[4,5,6,7]]\n",
    "list(zip(a,b))"
   ]
  },
  {
   "cell_type": "code",
   "execution_count": null,
   "metadata": {
    "collapsed": true
   },
   "outputs": [],
   "source": []
  }
 ],
 "metadata": {
  "kernelspec": {
   "display_name": "Python 3",
   "language": "python",
   "name": "python3"
  },
  "language_info": {
   "codemirror_mode": {
    "name": "ipython",
    "version": 3
   },
   "file_extension": ".py",
   "mimetype": "text/x-python",
   "name": "python",
   "nbconvert_exporter": "python",
   "pygments_lexer": "ipython3",
   "version": "3.6.5"
  }
 },
 "nbformat": 4,
 "nbformat_minor": 2
}
